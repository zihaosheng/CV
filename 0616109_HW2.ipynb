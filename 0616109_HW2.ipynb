{
 "cells": [
  {
   "cell_type": "code",
   "execution_count": 2,
   "outputs": [],
   "source": [
    "import pandas"
   ],
   "metadata": {
    "collapsed": false,
    "pycharm": {
     "name": "#%%\n",
     "is_executing": false
    }
   }
  },
  {
   "cell_type": "markdown",
   "source": [
    "## HW2: Linear Discriminant Analysis\n",
    "In hw2, you need to implement Fisher’s linear discriminant by using only numpy, then train your implemented model by the provided dataset and test the performance with testing data\n",
    "\n",
    "Please note that only **NUMPY** can be used to implement your model, you will get no points by simply calling sklearn.discriminant_analysis.LinearDiscriminantAnalysis "
   ],
   "metadata": {
    "collapsed": false
   }
  },
  {
   "cell_type": "markdown",
   "source": [
    "## Load data"
   ],
   "metadata": {
    "collapsed": false
   }
  },
  {
   "cell_type": "code",
   "execution_count": 3,
   "outputs": [],
   "source": [
    "import pandas as pd\n",
    "import numpy as np\n",
    "from sklearn.metrics import accuracy_score"
   ],
   "metadata": {
    "collapsed": false,
    "pycharm": {
     "name": "#%%\n",
     "is_executing": false
    }
   }
  },
  {
   "cell_type": "code",
   "execution_count": 4,
   "outputs": [],
   "source": [
    "x_train = pd.read_csv(\"x_train.csv\").values\n",
    "y_train = pd.read_csv(\"y_train.csv\").values[:, 0]\n",
    "x_test = pd.read_csv(\"x_test.csv\").values\n",
    "y_test = pd.read_csv(\"y_test.csv\").values[:, 0]"
   ],
   "metadata": {
    "collapsed": false,
    "pycharm": {
     "name": "#%%\n",
     "is_executing": false
    }
   }
  },
  {
   "cell_type": "code",
   "execution_count": 5,
   "outputs": [
    {
     "name": "stdout",
     "text": [
      "(750, 2)\n(750,)\n(250, 2)\n(250,)\n"
     ],
     "output_type": "stream"
    }
   ],
   "source": [
    "print(x_train.shape)\n",
    "print(y_train.shape)\n",
    "print(x_test.shape)\n",
    "print(y_test.shape)"
   ],
   "metadata": {
    "collapsed": false,
    "pycharm": {
     "name": "#%%\n",
     "is_executing": false
    }
   }
  },
  {
   "cell_type": "markdown",
   "source": [
    "## 1. Compute the mean vectors mi, (i=1,2) of each 2 classes"
   ],
   "metadata": {
    "collapsed": false
   }
  },
  {
   "cell_type": "code",
   "execution_count": 6,
   "outputs": [
    {
     "name": "stdout",
     "text": [
      "mean vector of class 1: [2.47107265 1.97913899] mean vector of class 2: [1.82380675 3.03051876]\n"
     ],
     "output_type": "stream"
    }
   ],
   "source": [
    "m1 = np.mean(x_train[y_train == 0], axis=0)\n",
    "m2 = np.mean(x_train[y_train == 1], axis=0)\n",
    "print(f\"mean vector of class 1: {m1}\", f\"mean vector of class 2: {m2}\")"
   ],
   "metadata": {
    "collapsed": false,
    "pycharm": {
     "name": "#%%\n",
     "is_executing": false
    }
   }
  },
  {
   "cell_type": "markdown",
   "source": [
    "## 2. Compute the Within-class scatter matrix SW"
   ],
   "metadata": {
    "collapsed": false
   }
  },
  {
   "cell_type": "code",
   "execution_count": 7,
   "outputs": [],
   "source": [
    "sw = np.sum([np.mat(t-m1).T * np.mat(t-m1) for t\n",
    "             in x_train[y_train == 0]], axis=0\n",
    "            ) + np.sum([(np.mat(t-m2)).T * np.mat(t-m2)\n",
    "                        for t in x_train[y_train == 1]], axis=0)"
   ],
   "metadata": {
    "collapsed": false,
    "pycharm": {
     "name": "#%%\n",
     "is_executing": false
    }
   }
  },
  {
   "cell_type": "code",
   "execution_count": 10,
   "outputs": [
    {
     "name": "stdout",
     "text": [
      "Within-class scatter matrix SW: [[140.40036447  -5.30881553]\n [ -5.30881553 138.14297637]]\n"
     ],
     "output_type": "stream"
    }
   ],
   "source": [
    "assert sw.shape == (2, 2)\n",
    "print(f\"Within-class scatter matrix SW: {sw}\")"
   ],
   "metadata": {
    "collapsed": false,
    "pycharm": {
     "name": "#%%\n",
     "is_executing": false
    }
   }
  },
  {
   "cell_type": "markdown",
   "source": [
    "## 3.  Compute the Between-class scatter matrix SB"
   ],
   "metadata": {
    "collapsed": false
   }
  },
  {
   "cell_type": "code",
   "execution_count": 11,
   "outputs": [],
   "source": [
    "sb = np.mat((m2-m1)).T * np.mat(m2-m1)"
   ],
   "metadata": {
    "collapsed": false,
    "pycharm": {
     "name": "#%%\n",
     "is_executing": false
    }
   }
  },
  {
   "cell_type": "code",
   "execution_count": 12,
   "outputs": [
    {
     "name": "stdout",
     "text": [
      "Between-class scatter matrix SB: [[ 0.41895314 -0.68052227]\n [-0.68052227  1.10539942]]\n"
     ],
     "output_type": "stream"
    }
   ],
   "source": [
    "assert sb.shape == (2, 2)\n",
    "print(f\"Between-class scatter matrix SB: {sb}\")"
   ],
   "metadata": {
    "collapsed": false,
    "pycharm": {
     "name": "#%%\n",
     "is_executing": false
    }
   }
  },
  {
   "cell_type": "markdown",
   "source": [
    "## 4. Compute the Fisher’s linear discriminant"
   ],
   "metadata": {
    "collapsed": false
   }
  },
  {
   "cell_type": "code",
   "execution_count": 19,
   "outputs": [
    {
     "name": "stdout",
     "text": [
      "[[-0.00432865]\n [ 0.00744446]]\n"
     ],
     "output_type": "stream"
    }
   ],
   "source": [
    "w = np.mat(sw).I*np.mat(m2-m1).T\n",
    "# print(w)\n",
    "w = w/np.linalg.norm(w)"
   ],
   "metadata": {
    "collapsed": false,
    "pycharm": {
     "name": "#%%\n",
     "is_executing": false
    }
   }
  },
  {
   "cell_type": "code",
   "execution_count": 14,
   "outputs": [
    {
     "name": "stdout",
     "text": [
      " Fisher’s linear discriminant: [[-0.50266214]\n [ 0.86448295]]\n[[-0.50266214]\n [ 0.86448295]]\n"
     ],
     "output_type": "stream"
    }
   ],
   "source": [
    "assert w.shape == (2, 1)\n",
    "print(f\" Fisher’s linear discriminant: {w}\")\n"
   ],
   "metadata": {
    "collapsed": false,
    "pycharm": {
     "name": "#%%\n",
     "is_executing": false
    }
   }
  },
  {
   "cell_type": "markdown",
   "source": [
    "## 5. Project the test data by linear discriminant to get the class prediction by nearest-neighbor rule and calculate the accuracy score \n",
    "you can use accuracy_score function from sklearn.metric.accuracy_score"
   ],
   "metadata": {
    "collapsed": false
   }
  },
  {
   "cell_type": "code",
   "execution_count": 15,
   "outputs": [
    {
     "name": "stdout",
     "text": [
      "[[1.08594521]]\n"
     ],
     "output_type": "stream"
    }
   ],
   "source": [
    "#another method with higher accuracy but isn;t the requested one \n",
    "# a = (np.mat(x_test)*np.mat(w))\n",
    "# print(a.shape)\n",
    "threshold = np.mat(w).T*np.mat((m2+m1)/2).T\n",
    "print(threshold)\n",
    "# y_pred = np.zeros((250,1), int)\n",
    "# y_pred[np.mat(x_test)*np.mat(w)>threshold] = 1\n",
    "# y_pred = y_pred.reshape(250,)\n",
    "# # print(y_pred)\n",
    "# # print(y_test)\n",
    "# acc = accuracy_score(y_test, y_pred)\n",
    "# print(f\"Accuracy of test-set {acc}\")"
   ],
   "metadata": {
    "collapsed": false,
    "pycharm": {
     "name": "#%%\n",
     "is_executing": false
    }
   }
  },
  {
   "cell_type": "code",
   "source": [
    "y_pred = np.zeros((x_test.shape[0], 1), int)\n",
    "for i in range(x_test.shape[0]):\n",
    "    distances = np.abs(np.mat(x_train)*np.mat(w) -\n",
    "                       np.mat(x_test[i, :])*np.mat(w))\n",
    "    min_index = np.argmin(distances)\n",
    "    y_pred[i] = y_train[min_index]\n",
    "y_pred = y_pred.reshape(x_test.shape[0],)\n",
    "acc = accuracy_score(y_test, y_pred)\n",
    "print(f\"Accuracy of test-set {acc}\")"
   ],
   "metadata": {
    "collapsed": false,
    "pycharm": {
     "name": "#%%\n",
     "is_executing": false
    }
   },
   "execution_count": 16,
   "outputs": [
    {
     "name": "stdout",
     "text": [
      "Accuracy of test-set 0.88\n"
     ],
     "output_type": "stream"
    }
   ]
  },
  {
   "cell_type": "markdown",
   "source": [
    "## 6. Plot the 1) projection line 2) Decision boundary and colorize the data with each class\n",
    "### the result should look like this [image](https://i2.kknews.cc/SIG=fe79fb/26q1000on37o7874879n.jpg) (Red line: projection line, Green line: Decision boundary)"
   ],
   "metadata": {
    "collapsed": false
   }
  },
  {
   "cell_type": "code",
   "execution_count": 17,
   "outputs": [],
   "source": [
    "import matplotlib.pyplot as plt\n",
    "from matplotlib.pyplot import MultipleLocator"
   ],
   "metadata": {
    "collapsed": false,
    "pycharm": {
     "name": "#%%\n",
     "is_executing": false
    }
   }
  },
  {
   "cell_type": "code",
   "execution_count": 26,
   "outputs": [
    {
     "data": {
      "text/plain": "<Figure size 432x288 with 1 Axes>",
      "image/png": "[encoded data removed]"
     },
     "metadata": {
      "needs_background": "light"
     },
     "output_type": "display_data"
    }
   ],
   "source": [
    "x_major_locator = MultipleLocator(0.5)\n",
    "#把x轴的刻度间隔设置为0.5，并存在变量里\n",
    "y_major_locator = MultipleLocator(0.5)\n",
    "#把y轴的刻度间隔设置为0.5，并存在变量里\n",
    "ax = plt.gca()\n",
    "#ax为两条坐标轴的实例\n",
    "ax.xaxis.set_major_locator(x_major_locator)\n",
    "ax.yaxis.set_major_locator(y_major_locator)\n",
    "# #把x轴的主刻度设置为1的倍数\n",
    "# plt.xlim(-0.5, 5.1)\n",
    "# plt.ylim(0, 4.3)\n",
    "plt.axis('equal')\n",
    "plt.xlim(-0.5, 5.1)\n",
    "plt.ylim(0, 4.3)\n",
    "slope = w[1, 0]/w[0, 0]\n",
    "ax.set_title('Projection Line: w = %.16f b = 3.8' % slope)\n",
    "plt.scatter(x_train[y_train == 1][:, 0], x_train[y_train == 1][:, 1],\n",
    "            s=5, color='blue', marker=\".\")\n",
    "proj = np.zeros((x_train.shape[0], 2))\n",
    "proj[:, 0] = (x_train[:, 0]+(w[1, 0]/w[0, 0])*x_train[:, 1] -\n",
    "              (w[1, 0]/w[0, 0])*3.8)/(((w[1, 0]/w[0, 0])**2)+1)\n",
    "proj[:, 1] = (w[1, 0]/w[0, 0])*proj[:, 0]+3.8\n",
    "plt.scatter(proj[y_train == 1][:, 0], proj[y_train == 1][:, 1],\n",
    "            s=3, color='blue', marker=\".\")\n",
    "plt.scatter(x_train[y_train == 0][:, 0], x_train[y_train == 0][:, 1],\n",
    "            s=5, color='purple', marker=\".\")\n",
    "plt.scatter(proj[y_train == 0][:, 0], proj[y_train == 0][:, 1],\n",
    "            s=3, color='purple', marker=\".\")\n",
    "# plt.plot([x_train[:, 0].min(), x_train[:, 0].max()],\n",
    "#          [-w[0, 0]/w[1, 0]*x_train[:, 0].min()+threshold[0, 0]/w[1, 0],\n",
    "#           -w[0, 0]/w[1, 0]*x_train[:, 0].max()+threshold[0, 0]/w[1, 0]],\n",
    "         # color='green')\n",
    "plt.plot([-1, 3], [w[1, 0]/w[0, 0]*-1+3.8, w[1, 0]/w[0, 0]*3+3.8], color='red')\n",
    "for i in range(x_train.shape[0]):\n",
    "    plt.plot([proj[i, 0], x_train[i, 0]], [proj[i, 1], x_train[i, 1]],\n",
    "             color=\"blue\", linewidth=0.1)"
   ],
   "metadata": {
    "collapsed": false,
    "pycharm": {
     "name": "#%%\n",
     "is_executing": false
    }
   }
  },
  {
   "cell_type": "code",
   "execution_count": null,
   "outputs": [],
   "source": [
    "\n"
   ],
   "metadata": {
    "collapsed": false,
    "pycharm": {
     "name": "#%%\n"
    }
   }
  }
 ],
 "metadata": {
  "language_info": {
   "codemirror_mode": {
    "name": "ipython",
    "version": 2
   },
   "file_extension": ".py",
   "mimetype": "text/x-python",
   "name": "python",
   "nbconvert_exporter": "python",
   "pygments_lexer": "ipython2",
   "version": "2.7.6"
  },
  "kernelspec": {
   "name": "python3",
   "language": "python",
   "display_name": "Python 3"
  },
  "pycharm": {
   "stem_cell": {
    "cell_type": "raw",
    "source": [],
    "metadata": {
     "collapsed": false
    }
   }
  }
 },
 "nbformat": 4,
 "nbformat_minor": 0
}